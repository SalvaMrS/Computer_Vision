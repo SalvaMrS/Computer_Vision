{
  "nbformat": 4,
  "nbformat_minor": 0,
  "metadata": {
    "colab": {
      "provenance": [],
      "gpuType": "T4"
    },
    "kernelspec": {
      "name": "python3",
      "display_name": "Python 3"
    },
    "language_info": {
      "name": "python"
    },
    "accelerator": "GPU"
  },
  "cells": [
    {
      "cell_type": "markdown",
      "source": [
        "#Preparacion del entorno"
      ],
      "metadata": {
        "id": "WF3q02IcepJu"
      }
    },
    {
      "cell_type": "code",
      "source": [
        "!pip install -q gdown mediapy ultralytics transformers timm\n",
        "import mediapy as media\n",
        "import gdown\n",
        "import ultralytics\n",
        "from ultralytics import YOLO\n",
        "ultralytics.checks()\n",
        "\n",
        "from IPython.display import Image, display\n",
        "import cv2\n",
        "import matplotlib.pyplot as plt\n",
        "import numpy as np\n",
        "from google.colab.patches import cv2_imshow\n",
        "from transformers import pipeline\n",
        "from PIL import Image, ImageDraw, ImageFont\n",
        "import timm"
      ],
      "metadata": {
        "id": "r42LxoBMqaKL",
        "colab": {
          "base_uri": "https://localhost:8080/"
        },
        "outputId": "ddd5039a-be45-4322-b838-8794a9604584"
      },
      "execution_count": null,
      "outputs": [
        {
          "output_type": "stream",
          "name": "stdout",
          "text": [
            "\u001b[2K     \u001b[90m━━━━━━━━━━━━━━━━━━━━━━━━━━━━━━━━━━━━━━━━\u001b[0m \u001b[32m750.8/750.8 kB\u001b[0m \u001b[31m7.0 MB/s\u001b[0m eta \u001b[36m0:00:00\u001b[0m\n",
            "\u001b[2K     \u001b[90m━━━━━━━━━━━━━━━━━━━━━━━━━━━━━━━━━━━━━━━━\u001b[0m \u001b[32m2.2/2.2 MB\u001b[0m \u001b[31m13.3 MB/s\u001b[0m eta \u001b[36m0:00:00\u001b[0m\n",
            "\u001b[2K     \u001b[90m━━━━━━━━━━━━━━━━━━━━━━━━━━━━━━━━━━━━━━━━\u001b[0m \u001b[32m1.6/1.6 MB\u001b[0m \u001b[31m19.7 MB/s\u001b[0m eta \u001b[36m0:00:00\u001b[0m\n",
            "\u001b[?25h"
          ]
        }
      ]
    },
    {
      "cell_type": "code",
      "execution_count": null,
      "metadata": {
        "id": "mqs96TdJ7TUF"
      },
      "outputs": [],
      "source": [
        "%%capture\n",
        "!wget -O 'MobileNetSSD_deploy.prototxt' https://raw.githubusercontent.com/TheNsBhasin/DNN_Object_Detection/master/MobileNetSSD_deploy.prototxt.txt\n",
        "!wget -O 'MobileNetSSD_deploy.caffemodel' https://github.com/TheNsBhasin/DNN_Object_Detection/blob/master/MobileNetSSD_deploy.caffemodel?raw=true\n",
        "!wget \"https://github.com/openmaptiles/fonts/raw/master/roboto/Roboto-Regular.ttf\" -O \"Roboto-Regular.ttf\"\n",
        "\n",
        "gdown.download('https://drive.google.com/uc?id=1ZBgd3ubeQdzf6Ztuv3LqgrFmp7VsrdwG', '1.mp4', quiet=True)\n",
        "\n",
        "!ffmpeg -y -i 1.mp4 -vf \"scale=600:-1\" -an -t 30 1e.mp4"
      ]
    },
    {
      "cell_type": "markdown",
      "source": [
        "#Funcion de procesamiento de video"
      ],
      "metadata": {
        "id": "FvYYopd4ete1"
      }
    },
    {
      "cell_type": "code",
      "source": [
        "def process_video(filename_in, filename_out, process_frame, *args, **kwargs):\n",
        "    with media.VideoReader(filename_in) as r:\n",
        "        with media.VideoWriter(filename_out, shape=r.shape, fps=r.fps, bps=r.bps) as w:\n",
        "            for image in r:\n",
        "                processed_image = process_frame(image, *args, **kwargs)\n",
        "                w.add_image(processed_image)"
      ],
      "metadata": {
        "id": "P2EhFtJvewY2"
      },
      "execution_count": null,
      "outputs": []
    },
    {
      "cell_type": "markdown",
      "source": [
        "#Yolo"
      ],
      "metadata": {
        "id": "97sPoF5weyXx"
      }
    },
    {
      "cell_type": "code",
      "source": [
        "model_yolo = YOLO('yolov8n')"
      ],
      "metadata": {
        "id": "QOYPLwELp4Nd"
      },
      "execution_count": null,
      "outputs": []
    },
    {
      "cell_type": "code",
      "source": [
        "def procesar_frame_Yolo(fotograma):\n",
        "  fotograma = cv2.cvtColor(fotograma, cv2.COLOR_BGR2RGB)\n",
        "\n",
        "  results = model_yolo(fotograma)\n",
        "\n",
        "  detections_car = []\n",
        "\n",
        "  for box in results[0].boxes:\n",
        "    class_name = model_yolo.names[int(box.data[0][5])]\n",
        "    confidence = box.data[0][4]\n",
        "\n",
        "    if class_name == \"car\" and confidence > 0.5:\n",
        "        detections_car.append(box)\n",
        "\n",
        "  results[0].boxes = detections_car\n",
        "\n",
        "  annotated_frame = results[0].plot()\n",
        "\n",
        "  return cv2.cvtColor(annotated_frame, cv2.COLOR_RGB2BGR)"
      ],
      "metadata": {
        "id": "GoFIw8RQGbyv"
      },
      "execution_count": null,
      "outputs": []
    },
    {
      "cell_type": "code",
      "source": [
        "entrada = \"1e.mp4\"\n",
        "salida_yolo = \"yolo.mp4\"\n",
        "\n",
        "process_video(entrada, salida_yolo, procesar_frame_Yolo)\n",
        "\n",
        "media.show_video(media.read_video(salida_yolo), fps=30)"
      ],
      "metadata": {
        "id": "c8D90OuZN9Yh"
      },
      "execution_count": null,
      "outputs": []
    },
    {
      "cell_type": "markdown",
      "source": [
        "#MobileNetSSD"
      ],
      "metadata": {
        "id": "NAJpxa8ne9Nq"
      }
    },
    {
      "cell_type": "code",
      "source": [
        "modelo_mobilenet = 'MobileNetSSD_deploy.caffemodel'\n",
        "configuracion_mobilenet = 'MobileNetSSD_deploy.prototxt'\n",
        "clases = [\"background\", \"aeroplane\", \"bicycle\", \"bird\", \"boat\",\n",
        "          \"bottle\", \"bus\", \"car\", \"cat\", \"chair\", \"cow\", \"diningtable\",\n",
        "          \"dog\", \"horse\", \"motorbike\", \"person\", \"pottedplant\", \"sheep\",\n",
        "          \"sofa\", \"train\", \"tvmonitor\"]\n",
        "\n",
        "net = cv2.dnn.readNetFromCaffe(configuracion_mobilenet, modelo_mobilenet)"
      ],
      "metadata": {
        "id": "7eUNaC0yp-gv"
      },
      "execution_count": null,
      "outputs": []
    },
    {
      "cell_type": "code",
      "source": [
        "def procesar_frame_mobilenet(imagen):\n",
        "  (h, w) = imagen.shape[:2]\n",
        "  blob = cv2.dnn.blobFromImage(cv2.resize(imagen, (300, 300)), 0.007843, (300, 300), 127.5)\n",
        "\n",
        "  net.setInput(blob)\n",
        "  detecciones = net.forward()\n",
        "\n",
        "  for i in np.arange(0, detecciones.shape[2]):\n",
        "    confianza = detecciones[0, 0, i, 2]\n",
        "    idx = int(detecciones[0, 0, i, 1])\n",
        "\n",
        "    if confianza > 0.1 and clases[idx] == \"car\":\n",
        "      box = detecciones[0, 0, i, 3:7] * np.array([w, h, w, h])\n",
        "      (startX, startY, endX, endY) = box.astype(\"int\")\n",
        "\n",
        "      etiqueta = \"{}: {:.2f}%\".format(clases[idx], confianza * 100)\n",
        "      cv2.rectangle(imagen, (startX, startY), (endX, endY), (0, 255, 0), 2)\n",
        "      y = startY - 15 if startY - 15 > 15 else startY + 15\n",
        "      cv2.putText(imagen, etiqueta, (startX, y), cv2.FONT_HERSHEY_SIMPLEX, 0.5, (0, 255, 0), 2)\n",
        "\n",
        "  return imagen\n"
      ],
      "metadata": {
        "id": "6I_WWNIGfFUg"
      },
      "execution_count": null,
      "outputs": []
    },
    {
      "cell_type": "code",
      "source": [
        "salida_mobilenet = \"mobilenet.mp4\"\n",
        "\n",
        "process_video(entrada, salida_mobilenet, procesar_frame_mobilenet)\n",
        "\n",
        "media.show_video(media.read_video(salida_mobilenet), fps=30)"
      ],
      "metadata": {
        "id": "VCToWqNIgl5l"
      },
      "execution_count": null,
      "outputs": []
    },
    {
      "cell_type": "markdown",
      "source": [
        "#DETR"
      ],
      "metadata": {
        "id": "zAJTL1OjiwVt"
      }
    },
    {
      "cell_type": "code",
      "source": [
        "font = ImageFont.truetype(\"Roboto-Regular.ttf\", 40)\n",
        "\n",
        "model_detr = pipeline(\"object-detection\", model=\"facebook/detr-resnet-50\")"
      ],
      "metadata": {
        "id": "ceGcMtJnjNW3"
      },
      "execution_count": null,
      "outputs": []
    },
    {
      "cell_type": "code",
      "source": [
        "def draw_bounding_box(im, score, label, xmin, ymin, xmax, ymax):\n",
        "    im_with_rectangle = ImageDraw.Draw(im)\n",
        "    im_with_rectangle.rounded_rectangle([xmin, ymin, xmax, ymax], outline=\"red\", width=5, radius=10)\n",
        "\n",
        "    im_with_rectangle.text((xmin + 10, ymin - 40), f\"{label} ({score:.2f})\", fill=\"white\", font=font)\n",
        "\n",
        "    return im\n",
        "\n",
        "def procesar_frame_detr(imagen):\n",
        "  imagen_pil = Image.fromarray(imagen)\n",
        "  bounding_boxes = model_detr(imagen_pil)\n",
        "\n",
        "  for bounding_box in bounding_boxes:\n",
        "    if bounding_box['label'] == \"car\" and bounding_box['score'] > 0.5:\n",
        "      box = bounding_box['box']\n",
        "      imagen_pil = draw_bounding_box(imagen_pil, bounding_box['score'], bounding_box['label'],\n",
        "                                      int(box['xmin']), int(box['ymin']), int(box['xmax']),\n",
        "                                      int(box['ymax']))\n",
        "\n",
        "  return np.array(imagen_pil)"
      ],
      "metadata": {
        "id": "d1erXS9Ii-RN"
      },
      "execution_count": null,
      "outputs": []
    },
    {
      "cell_type": "code",
      "source": [
        "salida_detr = \"detr.mp4\"\n",
        "\n",
        "process_video(entrada, salida_detr, procesar_frame_detr)\n",
        "\n",
        "media.show_video(media.read_video(salida_detr), fps=30)"
      ],
      "metadata": {
        "id": "bdDPiWUClPki"
      },
      "execution_count": null,
      "outputs": []
    },
    {
      "cell_type": "markdown",
      "source": [
        "#Conclusiones"
      ],
      "metadata": {
        "id": "m8pg6HmbrKOD"
      }
    },
    {
      "cell_type": "markdown",
      "source": [
        "Segun los resultados obtenidos podemos concluir que los modelos mas eficaces a la hora de identificar los autos en este problema los modelos de Yolo y DETR son los mas eficaces mientras que para la ejecucion en tiempo real posiblemente los mas indicados sean Mobile Ner SSD y Yolo sin embargo si se desea analizar los videos utilizaría DETR ya que identifica los objetos con una gran eficacia."
      ],
      "metadata": {
        "id": "3TFF-LmJrMyk"
      }
    }
  ]
}